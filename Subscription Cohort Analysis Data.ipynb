{
 "cells": [
  {
   "cell_type": "markdown",
   "id": "15e2f390",
   "metadata": {},
   "source": [
    "Streaming Video Subscriptions\n",
    "Subscription records for MavenFlix, a fictitious video streaming platform. Dataset includes information about ~2,800 subscribers from September 2022 through September 2023. Each record represents an individual customer's subscription, including the subscription cost, created/canceled date, interval, and payment status.\n",
    "\n",
    "Recommended Analysis\n",
    "\n",
    "How have MavenFlix subscriptions trended over time?\n",
    "\n",
    "What percentage of customers have subscribed for 5 months or more?\n",
    "\n",
    "What month had the highest subscriber retention, and the lowest?\n",
    "\n",
    "(Source: Maven Analytics)\n",
    "\n",
    "(License: Public Domain)"
   ]
  },
  {
   "cell_type": "code",
   "execution_count": 179,
   "id": "af6fa466",
   "metadata": {},
   "outputs": [],
   "source": [
    "import pandas as pd,numpy as np,matplotlib.pyplot as plt,seaborn as sns"
   ]
  },
  {
   "cell_type": "code",
   "execution_count": 180,
   "id": "1e8e4f6a",
   "metadata": {},
   "outputs": [],
   "source": [
    "df=pd.read_csv('Subscription Cohort Analysis Data.csv')"
   ]
  },
  {
   "cell_type": "code",
   "execution_count": 181,
   "id": "5a1b860e",
   "metadata": {},
   "outputs": [
    {
     "name": "stdout",
     "output_type": "stream",
     "text": [
      "<class 'pandas.core.frame.DataFrame'>\n",
      "RangeIndex: 3069 entries, 0 to 3068\n",
      "Data columns (total 6 columns):\n",
      " #   Column                 Non-Null Count  Dtype \n",
      "---  ------                 --------------  ----- \n",
      " 0   customer_id            3069 non-null   int64 \n",
      " 1   created_date           3069 non-null   object\n",
      " 2   canceled_date          2004 non-null   object\n",
      " 3   subscription_cost      3069 non-null   int64 \n",
      " 4   subscription_interval  3069 non-null   object\n",
      " 5   was_subscription_paid  3069 non-null   object\n",
      "dtypes: int64(2), object(4)\n",
      "memory usage: 144.0+ KB\n"
     ]
    }
   ],
   "source": [
    "df.info()"
   ]
  },
  {
   "cell_type": "code",
   "execution_count": 182,
   "id": "cfce5e8c",
   "metadata": {},
   "outputs": [
    {
     "data": {
      "text/plain": [
       "0"
      ]
     },
     "execution_count": 182,
     "metadata": {},
     "output_type": "execute_result"
    }
   ],
   "source": [
    "df.duplicated().sum()"
   ]
  },
  {
   "cell_type": "code",
   "execution_count": 183,
   "id": "d391b1e4",
   "metadata": {},
   "outputs": [
    {
     "data": {
      "text/html": [
       "<div>\n",
       "<style scoped>\n",
       "    .dataframe tbody tr th:only-of-type {\n",
       "        vertical-align: middle;\n",
       "    }\n",
       "\n",
       "    .dataframe tbody tr th {\n",
       "        vertical-align: top;\n",
       "    }\n",
       "\n",
       "    .dataframe thead th {\n",
       "        text-align: right;\n",
       "    }\n",
       "</style>\n",
       "<table border=\"1\" class=\"dataframe\">\n",
       "  <thead>\n",
       "    <tr style=\"text-align: right;\">\n",
       "      <th></th>\n",
       "      <th>customer_id</th>\n",
       "      <th>created_date</th>\n",
       "      <th>canceled_date</th>\n",
       "      <th>subscription_cost</th>\n",
       "      <th>subscription_interval</th>\n",
       "      <th>was_subscription_paid</th>\n",
       "    </tr>\n",
       "  </thead>\n",
       "  <tbody>\n",
       "    <tr>\n",
       "      <th>0</th>\n",
       "      <td>154536156</td>\n",
       "      <td>2022-09-01</td>\n",
       "      <td>NaN</td>\n",
       "      <td>39</td>\n",
       "      <td>month</td>\n",
       "      <td>Yes</td>\n",
       "    </tr>\n",
       "    <tr>\n",
       "      <th>1</th>\n",
       "      <td>149713408</td>\n",
       "      <td>2022-09-01</td>\n",
       "      <td>2022-09-02</td>\n",
       "      <td>39</td>\n",
       "      <td>month</td>\n",
       "      <td>No</td>\n",
       "    </tr>\n",
       "    <tr>\n",
       "      <th>2</th>\n",
       "      <td>153756284</td>\n",
       "      <td>2022-09-01</td>\n",
       "      <td>2022-09-02</td>\n",
       "      <td>39</td>\n",
       "      <td>month</td>\n",
       "      <td>No</td>\n",
       "    </tr>\n",
       "    <tr>\n",
       "      <th>3</th>\n",
       "      <td>121253113</td>\n",
       "      <td>2022-09-01</td>\n",
       "      <td>2022-09-23</td>\n",
       "      <td>39</td>\n",
       "      <td>month</td>\n",
       "      <td>Yes</td>\n",
       "    </tr>\n",
       "    <tr>\n",
       "      <th>4</th>\n",
       "      <td>154467210</td>\n",
       "      <td>2022-09-01</td>\n",
       "      <td>2023-06-29</td>\n",
       "      <td>39</td>\n",
       "      <td>month</td>\n",
       "      <td>Yes</td>\n",
       "    </tr>\n",
       "  </tbody>\n",
       "</table>\n",
       "</div>"
      ],
      "text/plain": [
       "   customer_id created_date canceled_date  subscription_cost  \\\n",
       "0    154536156   2022-09-01           NaN                 39   \n",
       "1    149713408   2022-09-01    2022-09-02                 39   \n",
       "2    153756284   2022-09-01    2022-09-02                 39   \n",
       "3    121253113   2022-09-01    2022-09-23                 39   \n",
       "4    154467210   2022-09-01    2023-06-29                 39   \n",
       "\n",
       "  subscription_interval was_subscription_paid  \n",
       "0                 month                   Yes  \n",
       "1                 month                    No  \n",
       "2                 month                    No  \n",
       "3                 month                   Yes  \n",
       "4                 month                   Yes  "
      ]
     },
     "execution_count": 183,
     "metadata": {},
     "output_type": "execute_result"
    }
   ],
   "source": [
    "df.head()"
   ]
  },
  {
   "cell_type": "markdown",
   "id": "e20bbd70",
   "metadata": {},
   "source": [
    "How have MavenFlix subscriptions trended over time?"
   ]
  },
  {
   "cell_type": "code",
   "execution_count": 184,
   "id": "00389857",
   "metadata": {},
   "outputs": [
    {
     "data": {
      "text/plain": [
       "'2023-09-08'"
      ]
     },
     "execution_count": 184,
     "metadata": {},
     "output_type": "execute_result"
    }
   ],
   "source": [
    "df.created_date.unique().max()"
   ]
  },
  {
   "cell_type": "code",
   "execution_count": 185,
   "id": "1f3fc445",
   "metadata": {},
   "outputs": [
    {
     "data": {
      "text/plain": [
       "'2022-09-01'"
      ]
     },
     "execution_count": 185,
     "metadata": {},
     "output_type": "execute_result"
    }
   ],
   "source": [
    "df.created_date.unique().min()"
   ]
  },
  {
   "cell_type": "code",
   "execution_count": 186,
   "id": "f05cf516",
   "metadata": {},
   "outputs": [],
   "source": [
    "df['creation_year_month']=pd.to_datetime(df['created_date']).dt.strftime('%m/%Y')"
   ]
  },
  {
   "cell_type": "code",
   "execution_count": 187,
   "id": "df6eab6c",
   "metadata": {},
   "outputs": [],
   "source": [
    "df['canceled_year_month']=pd.to_datetime(df['canceled_date']).dt.strftime('%m/%Y')"
   ]
  },
  {
   "cell_type": "code",
   "execution_count": 188,
   "id": "84bb95a4",
   "metadata": {},
   "outputs": [
    {
     "data": {
      "text/plain": [
       "array(['09/2022', '10/2022', '11/2022', '12/2022', '01/2023', '02/2023',\n",
       "       '03/2023', '04/2023', '05/2023', '06/2023', '07/2023', '08/2023',\n",
       "       '09/2023'], dtype=object)"
      ]
     },
     "execution_count": 188,
     "metadata": {},
     "output_type": "execute_result"
    }
   ],
   "source": [
    "df['creation_year_month'].unique()"
   ]
  },
  {
   "cell_type": "code",
   "execution_count": 189,
   "id": "9b9001aa",
   "metadata": {},
   "outputs": [],
   "source": [
    "df=df.sort_values(by=['created_date'],ascending=True)"
   ]
  },
  {
   "cell_type": "code",
   "execution_count": 190,
   "id": "7156a8c4",
   "metadata": {},
   "outputs": [
    {
     "data": {
      "text/html": [
       "<div>\n",
       "<style scoped>\n",
       "    .dataframe tbody tr th:only-of-type {\n",
       "        vertical-align: middle;\n",
       "    }\n",
       "\n",
       "    .dataframe tbody tr th {\n",
       "        vertical-align: top;\n",
       "    }\n",
       "\n",
       "    .dataframe thead th {\n",
       "        text-align: right;\n",
       "    }\n",
       "</style>\n",
       "<table border=\"1\" class=\"dataframe\">\n",
       "  <thead>\n",
       "    <tr style=\"text-align: right;\">\n",
       "      <th></th>\n",
       "      <th>customer_id</th>\n",
       "      <th>created_date</th>\n",
       "      <th>canceled_date</th>\n",
       "      <th>subscription_cost</th>\n",
       "      <th>subscription_interval</th>\n",
       "      <th>was_subscription_paid</th>\n",
       "      <th>creation_year_month</th>\n",
       "      <th>canceled_year_month</th>\n",
       "    </tr>\n",
       "  </thead>\n",
       "  <tbody>\n",
       "    <tr>\n",
       "      <th>0</th>\n",
       "      <td>154536156</td>\n",
       "      <td>2022-09-01</td>\n",
       "      <td>NaN</td>\n",
       "      <td>39</td>\n",
       "      <td>month</td>\n",
       "      <td>Yes</td>\n",
       "      <td>09/2022</td>\n",
       "      <td>NaN</td>\n",
       "    </tr>\n",
       "    <tr>\n",
       "      <th>10</th>\n",
       "      <td>154601651</td>\n",
       "      <td>2022-09-01</td>\n",
       "      <td>2022-09-26</td>\n",
       "      <td>39</td>\n",
       "      <td>month</td>\n",
       "      <td>Yes</td>\n",
       "      <td>09/2022</td>\n",
       "      <td>09/2022</td>\n",
       "    </tr>\n",
       "    <tr>\n",
       "      <th>9</th>\n",
       "      <td>154428434</td>\n",
       "      <td>2022-09-01</td>\n",
       "      <td>2022-10-31</td>\n",
       "      <td>39</td>\n",
       "      <td>month</td>\n",
       "      <td>Yes</td>\n",
       "      <td>09/2022</td>\n",
       "      <td>10/2022</td>\n",
       "    </tr>\n",
       "    <tr>\n",
       "      <th>8</th>\n",
       "      <td>154568379</td>\n",
       "      <td>2022-09-01</td>\n",
       "      <td>2022-10-25</td>\n",
       "      <td>39</td>\n",
       "      <td>month</td>\n",
       "      <td>Yes</td>\n",
       "      <td>09/2022</td>\n",
       "      <td>10/2022</td>\n",
       "    </tr>\n",
       "    <tr>\n",
       "      <th>7</th>\n",
       "      <td>148671505</td>\n",
       "      <td>2022-09-01</td>\n",
       "      <td>2022-11-23</td>\n",
       "      <td>39</td>\n",
       "      <td>month</td>\n",
       "      <td>Yes</td>\n",
       "      <td>09/2022</td>\n",
       "      <td>11/2022</td>\n",
       "    </tr>\n",
       "    <tr>\n",
       "      <th>6</th>\n",
       "      <td>154494346</td>\n",
       "      <td>2022-09-01</td>\n",
       "      <td>2022-11-26</td>\n",
       "      <td>39</td>\n",
       "      <td>month</td>\n",
       "      <td>Yes</td>\n",
       "      <td>09/2022</td>\n",
       "      <td>11/2022</td>\n",
       "    </tr>\n",
       "    <tr>\n",
       "      <th>11</th>\n",
       "      <td>122824692</td>\n",
       "      <td>2022-09-01</td>\n",
       "      <td>2022-09-15</td>\n",
       "      <td>39</td>\n",
       "      <td>month</td>\n",
       "      <td>Yes</td>\n",
       "      <td>09/2022</td>\n",
       "      <td>09/2022</td>\n",
       "    </tr>\n",
       "    <tr>\n",
       "      <th>4</th>\n",
       "      <td>154467210</td>\n",
       "      <td>2022-09-01</td>\n",
       "      <td>2023-06-29</td>\n",
       "      <td>39</td>\n",
       "      <td>month</td>\n",
       "      <td>Yes</td>\n",
       "      <td>09/2022</td>\n",
       "      <td>06/2023</td>\n",
       "    </tr>\n",
       "    <tr>\n",
       "      <th>3</th>\n",
       "      <td>121253113</td>\n",
       "      <td>2022-09-01</td>\n",
       "      <td>2022-09-23</td>\n",
       "      <td>39</td>\n",
       "      <td>month</td>\n",
       "      <td>Yes</td>\n",
       "      <td>09/2022</td>\n",
       "      <td>09/2022</td>\n",
       "    </tr>\n",
       "    <tr>\n",
       "      <th>2</th>\n",
       "      <td>153756284</td>\n",
       "      <td>2022-09-01</td>\n",
       "      <td>2022-09-02</td>\n",
       "      <td>39</td>\n",
       "      <td>month</td>\n",
       "      <td>No</td>\n",
       "      <td>09/2022</td>\n",
       "      <td>09/2022</td>\n",
       "    </tr>\n",
       "  </tbody>\n",
       "</table>\n",
       "</div>"
      ],
      "text/plain": [
       "    customer_id created_date canceled_date  subscription_cost  \\\n",
       "0     154536156   2022-09-01           NaN                 39   \n",
       "10    154601651   2022-09-01    2022-09-26                 39   \n",
       "9     154428434   2022-09-01    2022-10-31                 39   \n",
       "8     154568379   2022-09-01    2022-10-25                 39   \n",
       "7     148671505   2022-09-01    2022-11-23                 39   \n",
       "6     154494346   2022-09-01    2022-11-26                 39   \n",
       "11    122824692   2022-09-01    2022-09-15                 39   \n",
       "4     154467210   2022-09-01    2023-06-29                 39   \n",
       "3     121253113   2022-09-01    2022-09-23                 39   \n",
       "2     153756284   2022-09-01    2022-09-02                 39   \n",
       "\n",
       "   subscription_interval was_subscription_paid creation_year_month  \\\n",
       "0                  month                   Yes             09/2022   \n",
       "10                 month                   Yes             09/2022   \n",
       "9                  month                   Yes             09/2022   \n",
       "8                  month                   Yes             09/2022   \n",
       "7                  month                   Yes             09/2022   \n",
       "6                  month                   Yes             09/2022   \n",
       "11                 month                   Yes             09/2022   \n",
       "4                  month                   Yes             09/2022   \n",
       "3                  month                   Yes             09/2022   \n",
       "2                  month                    No             09/2022   \n",
       "\n",
       "   canceled_year_month  \n",
       "0                  NaN  \n",
       "10             09/2022  \n",
       "9              10/2022  \n",
       "8              10/2022  \n",
       "7              11/2022  \n",
       "6              11/2022  \n",
       "11             09/2022  \n",
       "4              06/2023  \n",
       "3              09/2022  \n",
       "2              09/2022  "
      ]
     },
     "execution_count": 190,
     "metadata": {},
     "output_type": "execute_result"
    }
   ],
   "source": [
    "df.head(10)"
   ]
  },
  {
   "cell_type": "code",
   "execution_count": 191,
   "id": "d49c6161",
   "metadata": {},
   "outputs": [
    {
     "name": "stderr",
     "output_type": "stream",
     "text": [
      "/var/folders/db/5lq6wtyx2y39rtvf97mrmwfm0000gn/T/ipykernel_84109/4263419904.py:6: SettingWithCopyWarning: \n",
      "A value is trying to be set on a copy of a slice from a DataFrame\n",
      "\n",
      "See the caveats in the documentation: https://pandas.pydata.org/pandas-docs/stable/user_guide/indexing.html#returning-a-view-versus-a-copy\n",
      "  df['is_current_month_subscriber'][i]=False\n",
      "/var/folders/db/5lq6wtyx2y39rtvf97mrmwfm0000gn/T/ipykernel_84109/4263419904.py:4: SettingWithCopyWarning: \n",
      "A value is trying to be set on a copy of a slice from a DataFrame\n",
      "\n",
      "See the caveats in the documentation: https://pandas.pydata.org/pandas-docs/stable/user_guide/indexing.html#returning-a-view-versus-a-copy\n",
      "  df['is_current_month_subscriber'][i]=True\n"
     ]
    }
   ],
   "source": [
    "df['is_current_month_subscriber']=''\n",
    "for i in range(len(df)):\n",
    "    if pd.to_datetime(df['created_date'][i])<=pd.to_datetime(df['canceled_date'][i]):\n",
    "        df['is_current_month_subscriber'][i]=True\n",
    "    else:\n",
    "        df['is_current_month_subscriber'][i]=False"
   ]
  },
  {
   "cell_type": "code",
   "execution_count": 192,
   "id": "09df6111",
   "metadata": {},
   "outputs": [
    {
     "data": {
      "text/plain": [
       "array([False, True], dtype=object)"
      ]
     },
     "execution_count": 192,
     "metadata": {},
     "output_type": "execute_result"
    }
   ],
   "source": [
    "df['is_current_month_subscriber'].unique()"
   ]
  },
  {
   "cell_type": "code",
   "execution_count": 196,
   "id": "e9a88131",
   "metadata": {},
   "outputs": [],
   "source": [
    "dfn_1=df.groupby(['creation_year_month','is_current_month_subscriber'])['is_current_month_subscriber'].count().sort_values().reset_index(name='Number_of_Subscribers')\n"
   ]
  },
  {
   "cell_type": "code",
   "execution_count": 204,
   "id": "484525ba",
   "metadata": {},
   "outputs": [],
   "source": [
    "dfn_1=dfn_1.sort_values(by='creation_year_month',ascending=False)"
   ]
  },
  {
   "cell_type": "code",
   "execution_count": 205,
   "id": "d1e24fd9",
   "metadata": {},
   "outputs": [
    {
     "data": {
      "text/plain": [
       "<AxesSubplot:xlabel='creation_year_month', ylabel='Number_of_Subscribers'>"
      ]
     },
     "execution_count": 205,
     "metadata": {},
     "output_type": "execute_result"
    },
    {
     "data": {
      "image/png": "[encoded data removed]",
      "text/plain": [
       "<Figure size 1440x432 with 1 Axes>"
      ]
     },
     "metadata": {
      "needs_background": "light"
     },
     "output_type": "display_data"
    }
   ],
   "source": [
    "plt.figure(figsize=(20,6))\n",
    "sns.lineplot(x='creation_year_month',y='Number_of_Subscribers',data=dfn_1,hue='is_current_month_subscriber')\n"
   ]
  },
  {
   "cell_type": "markdown",
   "id": "fbf663c5",
   "metadata": {},
   "source": [
    "What percentage of customers have subscribed for 5 months or more?"
   ]
  },
  {
   "cell_type": "code",
   "execution_count": 35,
   "id": "d5f52ec3",
   "metadata": {},
   "outputs": [],
   "source": [
    "df['no_subscription_months']=(pd.to_datetime(df[df['was_subscription_paid']=='Yes'].canceled_date)-pd.to_datetime(df[df['was_subscription_paid']=='Yes'].created_date))//np.timedelta64(1, 'M')"
   ]
  },
  {
   "cell_type": "code",
   "execution_count": null,
   "id": "d90d34b1",
   "metadata": {},
   "outputs": [],
   "source": [
    "# // rounds down to lowest decimal"
   ]
  },
  {
   "cell_type": "code",
   "execution_count": 37,
   "id": "8d9b88b4",
   "metadata": {},
   "outputs": [
    {
     "data": {
      "text/plain": [
       "0       NaN\n",
       "1       NaN\n",
       "2       NaN\n",
       "3       0.0\n",
       "4       9.0\n",
       "       ... \n",
       "3064    NaN\n",
       "3065    NaN\n",
       "3066    NaN\n",
       "3067    NaN\n",
       "3068    NaN\n",
       "Name: no_subscription_months, Length: 3069, dtype: float64"
      ]
     },
     "execution_count": 37,
     "metadata": {},
     "output_type": "execute_result"
    }
   ],
   "source": [
    "df['no_subscription_months']"
   ]
  },
  {
   "cell_type": "code",
   "execution_count": 39,
   "id": "ed9a9435",
   "metadata": {},
   "outputs": [
    {
     "name": "stdout",
     "output_type": "stream",
     "text": [
      "What percentage of customers have subscribed for 5 months or more?  153\n"
     ]
    }
   ],
   "source": [
    "print('What percentage of customers have subscribed for 5 months or more? ',df[df['no_subscription_months']>=5].customer_id.count())"
   ]
  },
  {
   "cell_type": "markdown",
   "id": "27b2d5a0",
   "metadata": {},
   "source": [
    "What month had the highest subscriber retention, and the lowest?"
   ]
  },
  {
   "cell_type": "code",
   "execution_count": 172,
   "id": "00c4f89e",
   "metadata": {},
   "outputs": [],
   "source": [
    "dfn=df[(df['was_subscription_paid']=='Yes') & (df['is_current_month_subscriber']==True)]"
   ]
  },
  {
   "cell_type": "code",
   "execution_count": 173,
   "id": "4af1ab81",
   "metadata": {},
   "outputs": [],
   "source": [
    "dfn1=dfn[['creation_year_month','is_current_month_subscriber']].value_counts().sort_values().reset_index(name='Number of Subscriptions Current Month')"
   ]
  },
  {
   "cell_type": "code",
   "execution_count": 174,
   "id": "7513a1cb",
   "metadata": {},
   "outputs": [
    {
     "name": "stdout",
     "output_type": "stream",
     "text": [
      "What month had the highest subscriber retention\n"
     ]
    },
    {
     "data": {
      "text/html": [
       "<div>\n",
       "<style scoped>\n",
       "    .dataframe tbody tr th:only-of-type {\n",
       "        vertical-align: middle;\n",
       "    }\n",
       "\n",
       "    .dataframe tbody tr th {\n",
       "        vertical-align: top;\n",
       "    }\n",
       "\n",
       "    .dataframe thead th {\n",
       "        text-align: right;\n",
       "    }\n",
       "</style>\n",
       "<table border=\"1\" class=\"dataframe\">\n",
       "  <thead>\n",
       "    <tr style=\"text-align: right;\">\n",
       "      <th></th>\n",
       "      <th>creation_year_month</th>\n",
       "      <th>is_current_month_subscriber</th>\n",
       "      <th>Number of Subscriptions Current Month</th>\n",
       "    </tr>\n",
       "  </thead>\n",
       "  <tbody>\n",
       "    <tr>\n",
       "      <th>0</th>\n",
       "      <td>09/2023</td>\n",
       "      <td>True</td>\n",
       "      <td>2</td>\n",
       "    </tr>\n",
       "  </tbody>\n",
       "</table>\n",
       "</div>"
      ],
      "text/plain": [
       "  creation_year_month  is_current_month_subscriber  \\\n",
       "0             09/2023                         True   \n",
       "\n",
       "   Number of Subscriptions Current Month  \n",
       "0                                      2  "
      ]
     },
     "execution_count": 174,
     "metadata": {},
     "output_type": "execute_result"
    }
   ],
   "source": [
    "print('What month had the highest subscriber retention')\n",
    "dfn1.head(1)"
   ]
  },
  {
   "cell_type": "code",
   "execution_count": 175,
   "id": "ff9e1aa4",
   "metadata": {},
   "outputs": [
    {
     "name": "stdout",
     "output_type": "stream",
     "text": [
      "What month had the lowest subscriber retention\n"
     ]
    },
    {
     "data": {
      "text/html": [
       "<div>\n",
       "<style scoped>\n",
       "    .dataframe tbody tr th:only-of-type {\n",
       "        vertical-align: middle;\n",
       "    }\n",
       "\n",
       "    .dataframe tbody tr th {\n",
       "        vertical-align: top;\n",
       "    }\n",
       "\n",
       "    .dataframe thead th {\n",
       "        text-align: right;\n",
       "    }\n",
       "</style>\n",
       "<table border=\"1\" class=\"dataframe\">\n",
       "  <thead>\n",
       "    <tr style=\"text-align: right;\">\n",
       "      <th></th>\n",
       "      <th>creation_year_month</th>\n",
       "      <th>is_current_month_subscriber</th>\n",
       "      <th>Number of Subscriptions Current Month</th>\n",
       "    </tr>\n",
       "  </thead>\n",
       "  <tbody>\n",
       "    <tr>\n",
       "      <th>12</th>\n",
       "      <td>02/2023</td>\n",
       "      <td>True</td>\n",
       "      <td>207</td>\n",
       "    </tr>\n",
       "  </tbody>\n",
       "</table>\n",
       "</div>"
      ],
      "text/plain": [
       "   creation_year_month  is_current_month_subscriber  \\\n",
       "12             02/2023                         True   \n",
       "\n",
       "    Number of Subscriptions Current Month  \n",
       "12                                    207  "
      ]
     },
     "execution_count": 175,
     "metadata": {},
     "output_type": "execute_result"
    }
   ],
   "source": [
    "print('What month had the lowest subscriber retention')\n",
    "dfn1.tail(1)"
   ]
  },
  {
   "cell_type": "code",
   "execution_count": null,
   "id": "3fe12b9f",
   "metadata": {},
   "outputs": [],
   "source": []
  }
 ],
 "metadata": {
  "kernelspec": {
   "display_name": "Python 3 (ipykernel)",
   "language": "python",
   "name": "python3"
  },
  "language_info": {
   "codemirror_mode": {
    "name": "ipython",
    "version": 3
   },
   "file_extension": ".py",
   "mimetype": "text/x-python",
   "name": "python",
   "nbconvert_exporter": "python",
   "pygments_lexer": "ipython3",
   "version": "3.9.7"
  }
 },
 "nbformat": 4,
 "nbformat_minor": 5
}
